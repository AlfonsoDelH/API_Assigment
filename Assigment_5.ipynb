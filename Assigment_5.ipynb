{
 "cells": [
  {
   "cell_type": "markdown",
   "metadata": {},
   "source": [
    "# WeatherPy\n",
    "----\n",
    "\n",
    "#### Note\n",
    "* Instructions have been included for each segment. You do not have to follow them exactly, but they are included to help you think through the steps."
   ]
  },
  {
   "cell_type": "code",
   "execution_count": 1,
   "metadata": {
    "scrolled": true
   },
   "outputs": [],
   "source": [
    "# Dependencies and Setup\n",
    "import matplotlib.pyplot as plt\n",
    "import pandas as pd\n",
    "import numpy as np\n",
    "import requests\n",
    "import time\n",
    "\n",
    "# Import API key\n",
    "from config import api_key\n",
    "\n",
    "# Incorporated citipy to determine city based on latitude and longitude\n",
    "from citipy import citipy\n",
    "\n",
    "# Output File (CSV)\n",
    "output_data_file = \"output_data/cities.csv\"\n",
    "\n",
    "# Range of latitudes and longitudes\n",
    "lat_range = (-90, 90)\n",
    "lng_range = (-180, 180)"
   ]
  },
  {
   "cell_type": "markdown",
   "metadata": {},
   "source": [
    "## Generate Cities List"
   ]
  },
  {
   "cell_type": "code",
   "execution_count": 2,
   "metadata": {},
   "outputs": [
    {
     "data": {
      "text/plain": [
       "616"
      ]
     },
     "execution_count": 2,
     "metadata": {},
     "output_type": "execute_result"
    }
   ],
   "source": [
    "# List for holding lat_lngs and cities\n",
    "lat_lngs = []\n",
    "cities = []\n",
    "\n",
    "# Create a set of random lat and lng combinations\n",
    "lats = np.random.uniform(low=-90.000, high=90.000, size=1500)\n",
    "lngs = np.random.uniform(low=-180.000, high=180.000, size=1500)\n",
    "lat_lngs = zip(lats, lngs)\n",
    "\n",
    "# Identify nearest city for each lat, lng combination\n",
    "for lat_lng in lat_lngs:\n",
    "    city = citipy.nearest_city(lat_lng[0], lat_lng[1]).city_name\n",
    "    \n",
    "    # If the city is unique, then add it to a our cities list\n",
    "    if city not in cities:\n",
    "        cities.append(city)\n",
    "\n",
    "# Print the city count to confirm sufficient count\n",
    "len(cities)"
   ]
  },
  {
   "cell_type": "markdown",
   "metadata": {},
   "source": [
    "### Perform API Calls\n",
    "* Perform a weather check on each city using a series of successive API calls.\n",
    "* Include a print log of each city as it'sbeing processed (with the city number and city name).\n"
   ]
  },
  {
   "cell_type": "code",
   "execution_count": null,
   "metadata": {},
   "outputs": [
    {
     "name": "stdout",
     "output_type": "stream",
     "text": [
      "City not found\n",
      "City not found\n",
      "City not found\n",
      "City not found\n",
      "City not found\n",
      "City not found\n",
      "City not found\n",
      "City not found\n",
      "City not found\n",
      "City not found\n",
      "City not found\n",
      "City not found\n",
      "City not found\n",
      "City not found\n",
      "City not found\n",
      "City not found\n",
      "City not found\n",
      "City not found\n",
      "City not found\n",
      "City not found\n",
      "City not found\n",
      "City not found\n",
      "City not found\n",
      "City not found\n",
      "City not found\n",
      "City not found\n",
      "City not found\n",
      "City not found\n",
      "City not found\n",
      "City not found\n",
      "City not found\n",
      "City not found\n",
      "City not found\n",
      "City not found\n",
      "City not found\n",
      "City not found\n",
      "City not found\n",
      "City not found\n",
      "City not found\n",
      "City not found\n",
      "City not found\n",
      "City not found\n",
      "City not found\n",
      "City not found\n",
      "City not found\n",
      "City not found\n",
      "City not found\n",
      "City not found\n",
      "City not found\n",
      "City not found\n",
      "City not found\n",
      "City not found\n",
      "City not found\n",
      "City not found\n",
      "City not found\n",
      "City not found\n",
      "City not found\n",
      "City not found\n",
      "City not found\n",
      "City not found\n",
      "City not found\n",
      "City not found\n",
      "City not found\n",
      "City not found\n",
      "City not found\n",
      "City not found\n",
      "City not found\n",
      "City not found\n",
      "City not found\n",
      "City not found\n",
      "City not found\n",
      "City not found\n",
      "City not found\n",
      "City not found\n",
      "City not found\n",
      "City not found\n",
      "City not found\n",
      "City not found\n",
      "City not found\n",
      "City not found\n",
      "City not found\n",
      "City not found\n",
      "City not found\n",
      "City not found\n",
      "City not found\n",
      "City not found\n",
      "City not found\n",
      "City not found\n",
      "City not found\n",
      "City not found\n",
      "City not found\n",
      "City not found\n",
      "City not found\n",
      "City not found\n",
      "City not found\n",
      "City not found\n",
      "City not found\n",
      "City not found\n",
      "City not found\n",
      "City not found\n",
      "City not found\n",
      "City not found\n",
      "City not found\n",
      "City not found\n",
      "City not found\n",
      "City not found\n",
      "City not found\n",
      "City not found\n",
      "City not found\n",
      "City not found\n",
      "City not found\n",
      "City not found\n",
      "City not found\n",
      "City not found\n",
      "City not found\n",
      "City not found\n",
      "City not found\n",
      "City not found\n",
      "City not found\n",
      "City not found\n",
      "City not found\n",
      "City not found\n",
      "City not found\n",
      "City not found\n",
      "City not found\n",
      "City not found\n",
      "City not found\n",
      "City not found\n",
      "City not found\n",
      "City not found\n",
      "City not found\n",
      "City not found\n",
      "City not found\n",
      "City not found\n"
     ]
    }
   ],
   "source": [
    "url = \"http://api.openweathermap.org/data/2.5/weather?\"\n",
    "\n",
    "urls=[]\n",
    "temp=[]\n",
    "lat=[]\n",
    "hum=[]\n",
    "cloud=[]\n",
    "wind=[]\n",
    "name=[]\n",
    "\n",
    "for city in cities:\n",
    "    temperature_url=url+\"q=\"+city+\"&units=imperial\"+\"&appid=\"+api_key\n",
    "    urls.append(temperature_url)\n",
    "\n",
    "for url in urls:\n",
    "    temp_data=requests.get(url).json()\n",
    "    for data in temp_data:\n",
    "        try:\n",
    "            name.append(temp_data[\"name\"])\n",
    "            temp.append(temp_data[\"main\"][\"temp_max\"])\n",
    "            lat.append(temp_data[\"coord\"][\"lat\"])\n",
    "            hum.append(temp_data[\"main\"][\"humidity\"])\n",
    "            cloud.append(temp_data[\"clouds\"][\"all\"])\n",
    "            wind.append(temp_data[\"wind\"][\"speed\"])\n",
    "        except KeyError:\n",
    "            print(f'City not found')"
   ]
  },
  {
   "cell_type": "markdown",
   "metadata": {},
   "source": [
    "### Convert Raw Data to DataFrame\n",
    "* Export the city data into a .csv.\n",
    "* Display the DataFrame"
   ]
  },
  {
   "cell_type": "code",
   "execution_count": null,
   "metadata": {},
   "outputs": [],
   "source": [
    "cities_data=list(zip(name,lat,temp,hum,cloud,wind))\n",
    "cities_data_df = pd.DataFrame(cities_data, columns = ['City name','Latitude','Temperature', 'Humidity','Cloudiness','Wind Speed'])\n",
    "cities_df=cities_data_df.groupby([\"City name\"]).mean()\n",
    "cities_df.to_csv(\"C:/Users/jdelga01/Desktop/API_Assigment/Cities_df.csv\")"
   ]
  },
  {
   "cell_type": "markdown",
   "metadata": {},
   "source": [
    "### Plotting the Data\n",
    "* Use proper labeling of the plots using plot titles (including date of analysis) and axes labels.\n",
    "* Save the plotted figures as .pngs."
   ]
  },
  {
   "cell_type": "markdown",
   "metadata": {},
   "source": [
    "# Latitude vs. Temperature Plot\n",
    "\n",
    "#### This graph is curious because you can actually see the earth curvature and how the sun hits the earth  relatively in the middle "
   ]
  },
  {
   "cell_type": "code",
   "execution_count": null,
   "metadata": {},
   "outputs": [],
   "source": [
    "latitude=cities_df[\"Latitude\"]\n",
    "temperature=cities_df[\"Temperature\"]\n",
    "\n",
    "plt.scatter(latitude, temperature, marker=\"o\", c=\"c\", edgecolors=\"black\", alpha=0.6)\n",
    "\n",
    "plt.title(\"City latitude vs Max temperature (July 15, 2019)\")\n",
    "plt.xlabel(\"Latitude\")\n",
    "plt.ylabel(\"Max Temperature (F°)\")\n",
    "plt.grid(True)\n",
    "\n",
    "plt.savefig(\"C:/Users/jdelga01/Desktop/API_Assigment/LatvsTemp.jpg\", bbox_inches=\"tight\")"
   ]
  },
  {
   "cell_type": "markdown",
   "metadata": {},
   "source": [
    "## Latitude vs. Humidity Plot\n",
    "#### Humidity behaves similarly to temperature. It seems humidity and temperature are related although northern and southern extreme values seem to have presence of humidity "
   ]
  },
  {
   "cell_type": "code",
   "execution_count": null,
   "metadata": {},
   "outputs": [],
   "source": [
    "latitude=cities_df[\"Latitude\"]\n",
    "humidity=cities_df[\"Humidity\"]\n",
    "\n",
    "plt.scatter(latitude, humidity, marker=\"o\", c=\"c\", edgecolors=\"black\", alpha=0.6)\n",
    "\n",
    "plt.title(\"City latitude vs Humidity (July 15, 2019)\")\n",
    "plt.xlabel(\"Latitude\")\n",
    "plt.ylabel(\"Humidity (%)\")\n",
    "plt.grid(True)\n",
    "plt.savefig(\"C:/Users/jdelga01/Desktop/API_Assigment/LatvsHumidity.jpg\", bbox_inches=\"tight\")"
   ]
  },
  {
   "cell_type": "markdown",
   "metadata": {},
   "source": [
    " ## Latitude vs. Cloudiness Plot\n",
    "#### For cities near the equator, there are only few cases that present null cloudiness and most cases with some level of cloudiness are present in the north hemisphere "
   ]
  },
  {
   "cell_type": "code",
   "execution_count": null,
   "metadata": {},
   "outputs": [],
   "source": [
    "latitude=cities_df[\"Latitude\"]\n",
    "cloudiness=cities_df[\"Cloudiness\"]\n",
    "\n",
    "plt.scatter(latitude, cloudiness, marker=\"o\", c=\"c\", edgecolors=\"black\", alpha=0.6)\n",
    "\n",
    "plt.title(\"City latitude vs Cloudiness (July 15, 2019)\")\n",
    "plt.xlabel(\"Latitude\")\n",
    "plt.ylabel(\"Cloudiness (%)\")\n",
    "plt.grid(True)\n",
    "plt.savefig(\"C:/Users/jdelga01/Desktop/API_Assigment/LatvsCloud.jpg\", bbox_inches=\"tight\")"
   ]
  },
  {
   "cell_type": "markdown",
   "metadata": {},
   "source": [
    "## Latitude vs Wind speed\n",
    "#### It seems that wind speed tends to be higher in the northern hemisphere but also there seems to be a relationship between the latitude and the wind speed. Extreme wind values seems to be located in the extreme latitudes "
   ]
  },
  {
   "cell_type": "code",
   "execution_count": null,
   "metadata": {},
   "outputs": [],
   "source": [
    "latitude=cities_df[\"Latitude\"]\n",
    "wind=cities_df[\"Wind Speed\"]\n",
    "\n",
    "plt.scatter(latitude, wind, marker=\"o\", c=\"c\", edgecolors=\"black\", alpha=0.6)\n",
    "\n",
    "plt.title(\"City latitude vs Wind speed (July 15, 2019)\")\n",
    "plt.xlabel(\"Latitude\")\n",
    "plt.ylabel(\"Wind speed (mph)\")\n",
    "plt.grid(True)\n",
    "plt.savefig(\"C:/Users/jdelga01/Desktop/API_Assigment/LatvsWind.jpg\", bbox_inches=\"tight\")"
   ]
  },
  {
   "cell_type": "code",
   "execution_count": null,
   "metadata": {},
   "outputs": [],
   "source": []
  }
 ],
 "metadata": {
  "anaconda-cloud": {},
  "kernel_info": {
   "name": "python3"
  },
  "kernelspec": {
   "display_name": "Python 3",
   "language": "python",
   "name": "python3"
  },
  "language_info": {
   "codemirror_mode": {
    "name": "ipython",
    "version": 3
   },
   "file_extension": ".py",
   "mimetype": "text/x-python",
   "name": "python",
   "nbconvert_exporter": "python",
   "pygments_lexer": "ipython3",
   "version": "3.7.3"
  },
  "nteract": {
   "version": "0.12.3"
  }
 },
 "nbformat": 4,
 "nbformat_minor": 2
}
